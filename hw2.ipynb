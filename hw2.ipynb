{
 "cells": [
  {
   "cell_type": "markdown",
   "metadata": {},
   "source": [
    "## Imports and Function Declarations"
   ]
  },
  {
   "cell_type": "code",
   "execution_count": 1,
   "metadata": {},
   "outputs": [],
   "source": [
    "# python version 3.10.6\n",
    "\n",
    "import pandas as pd\n",
    "import numpy as np\n",
    "from bs4 import BeautifulSoup\n",
    "\n",
    "import nltk\n",
    "from nltk.corpus import stopwords\n",
    "from nltk.tokenize import word_tokenize\n",
    "from nltk.stem import WordNetLemmatizer\n",
    "\n",
    "nltk.download('wordnet', quiet=True)\n",
    "nltk.download('omw-1.4', quiet=True) \n",
    "nltk.download('punkt', quiet=True) \n",
    "\n",
    "from sklearn.model_selection import train_test_split\n",
    "from textacy.preprocessing import remove, normalize, replace\n",
    "\n",
    "import warnings \n",
    "import contractions\n",
    "\n",
    "from gensim.models import Word2Vec\n",
    "\n",
    "warnings.filterwarnings('ignore')"
   ]
  },
  {
   "cell_type": "code",
   "execution_count": 2,
   "metadata": {},
   "outputs": [],
   "source": [
    "# GLOBALS \n",
    "\n",
    "F_PATH = 'amazon_reviews_us_Jewelry_v1_00.tsv'\n",
    "\n",
    "STAR_H = 'star_rating'\n",
    "REVIEW_H = 'review_body'\n",
    "\n",
    "COLS=[STAR_H, REVIEW_H]\n",
    "\n",
    "VAL_STARS = {'1', '2', '3', '4', '5'}\n",
    "\n",
    "WNL = WordNetLemmatizer()"
   ]
  },
  {
   "cell_type": "code",
   "execution_count": 3,
   "metadata": {},
   "outputs": [],
   "source": [
    "def read_data(f_path=F_PATH):\n",
    "   df = pd.read_csv(f_path, sep='\\t', usecols=COLS, low_memory=False)\n",
    "   df.dropna(inplace=True)\n",
    "   return df\n",
    "\n",
    "def get_sample(df, s_size=20000):\n",
    "\n",
    "   grouped = df.groupby(STAR_H)\n",
    "   rat_dfs = [grouped.get_group(rating).sample(n=s_size) for rating in VAL_STARS]\n",
    "   return pd.concat(rat_dfs) \n",
    "\n",
    "def gen_clean(text):\n",
    "   \"\"\"\n",
    "   gen text cleanup \n",
    "   incl removal: extended ws, html tags, urls\n",
    "   \"\"\"\n",
    "   text = BeautifulSoup(text, \"html.parser\").text #rm html tags \n",
    "   text = replace.urls(text, '')\n",
    "   text = contractions.fix(text)\n",
    "   text = remove.punctuation(text)\n",
    "   text = normalize.whitespace(text)\n",
    "   \n",
    "   return text.lower()\n",
    "   \n",
    "def rm_stops(text): \n",
    "   \"\"\"\n",
    "   remove stop words from text \n",
    "   \"\"\"\n",
    "   stops = set(stopwords.words(\"english\"))\n",
    "   sans_stops = [tok for tok in word_tokenize(text) if tok not in stops]\n",
    "   return \" \".join(sans_stops).strip()\n",
    "\n",
    "def lemmatize(text): \n",
    "\n",
    "   lemmas = [WNL.lemmatize(w) for w in word_tokenize(text)]\n",
    "   return \" \".join(lemmas).strip()\n"
   ]
  },
  {
   "cell_type": "code",
   "execution_count": 4,
   "metadata": {},
   "outputs": [],
   "source": [
    "df = read_data()\n",
    "sampled = get_sample(df)\n",
    "sampled.applymap(gen_clean, na_action='ignore')\n",
    "sampled.to_pickle('samp.pkl')\n",
    "# sampled = pd.read_pickle('samp.pkl')\n"
   ]
  },
  {
   "cell_type": "code",
   "execution_count": 5,
   "metadata": {},
   "outputs": [],
   "source": [
    "X_train, X_test, train_labels, test_labels = train_test_split(sampled[REVIEW_H], sampled[STAR_H], test_size=0.2, random_state=42)"
   ]
  },
  {
   "cell_type": "code",
   "execution_count": 6,
   "metadata": {},
   "outputs": [],
   "source": [
    "import gensim.downloader as api\n",
    "wv = api.load('word2vec-google-news-300')\n",
    "wv.save(\"google_vec.model\")"
   ]
  },
  {
   "cell_type": "markdown",
   "metadata": {},
   "source": [
    "1a examples"
   ]
  },
  {
   "cell_type": "code",
   "execution_count": 7,
   "metadata": {},
   "outputs": [
    {
     "ename": "",
     "evalue": "",
     "output_type": "error",
     "traceback": [
      "\u001b[1;31mCanceled future for execute_request message before replies were done"
     ]
    },
    {
     "ename": "",
     "evalue": "",
     "output_type": "error",
     "traceback": [
      "\u001b[1;31mThe Kernel crashed while executing code in the the current cell or a previous cell. Please review the code in the cell(s) to identify a possible cause of the failure. Click <a href='https://aka.ms/vscodeJupyterKernelCrash'>here</a> for more info. View Jupyter <a href='command:jupyter.viewOutput'>log</a> for further details."
     ]
    }
   ],
   "source": [
    "wv_king = wv.most_similar(negative=[\"man\"], positive=['king', 'woman'], topn=5)\n",
    "wv_girl = wv.most_similar( positive=['girl', 'age'], topn=5)\n",
    "wv_family = wv.most_similar(negative=['child'], positive=['family'], topn=5)\n",
    "print(f\"King - Man + Woman = {wv_king}\")\n",
    "print(f\"Girl + age = {wv_girl}\")\n",
    "print(f\"Family - Child = {wv_family}\")"
   ]
  },
  {
   "cell_type": "markdown",
   "metadata": {},
   "source": [
    "### Question: 1b\n",
    "\n",
    "embedding size = 300 \n",
    "window size = 11. \n",
    "minimum word count = 10\n",
    "\n",
    "- Check the semantic similarities for the same two examples in part (a)\n",
    "- What do you conclude from comparing vectors generated by yourself and the pretrained model? \n",
    "- Which of the Word2Vec models seems to encode semantic similarities between words better?\n",
    "\n",
    "- For the rest of this assignment, use the pretrained “word2vec-google-news-300” Word2Ve features"
   ]
  },
  {
   "cell_type": "code",
   "execution_count": null,
   "metadata": {},
   "outputs": [],
   "source": [
    "model = Word2Vec(sentences=sampled[REVIEW_H], vector_size=300, window=11, min_count=10)\n",
    "# model.save(\"word2vec.model\")"
   ]
  },
  {
   "cell_type": "code",
   "execution_count": null,
   "metadata": {},
   "outputs": [],
   "source": []
  }
 ],
 "metadata": {
  "kernelspec": {
   "display_name": "Python 3.10.6 64-bit",
   "language": "python",
   "name": "python3"
  },
  "language_info": {
   "codemirror_mode": {
    "name": "ipython",
    "version": 3
   },
   "file_extension": ".py",
   "mimetype": "text/x-python",
   "name": "python",
   "nbconvert_exporter": "python",
   "pygments_lexer": "ipython3",
   "version": "3.10.6"
  },
  "orig_nbformat": 4,
  "vscode": {
   "interpreter": {
    "hash": "aee8b7b246df8f9039afb4144a1f6fd8d2ca17a180786b69acc140d282b71a49"
   }
  }
 },
 "nbformat": 4,
 "nbformat_minor": 2
}
